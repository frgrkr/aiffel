{
 "cells": [
  {
   "cell_type": "code",
   "execution_count": 1,
   "metadata": {},
   "outputs": [],
   "source": [
    "def say_hi_somebody(name):\n",
    "    print(name+', 안녕!')"
   ]
  },
  {
   "cell_type": "markdown",
   "metadata": {},
   "source": [
    "- 함수를 정의한다.\n",
    "- 문자열인 한 개의 입력값을 받아 '[name], 안녕!'을 출력한다."
   ]
  },
  {
   "cell_type": "code",
   "execution_count": 3,
   "metadata": {},
   "outputs": [
    {
     "name": "stdout",
     "output_type": "stream",
     "text": [
      "준이, 안녕!\n"
     ]
    }
   ],
   "source": [
    "say_hi_somebody('준이')"
   ]
  },
  {
   "cell_type": "markdown",
   "metadata": {},
   "source": [
    "- 위에서 정의한 함수를 호출한다.\n",
    "- 입력값으로 [준이]를 주었음."
   ]
  },
  {
   "cell_type": "markdown",
   "metadata": {},
   "source": [
    "함수를 정의하는 라인을 주목해 보면, 괄호 () 안에 name이라는 입력값이 정의된 것을 확인할 수 있습니다. 이 입력값의 자리에 들어오는 값은 해당 함수 내에서 name이라는 변수로 불러서 사용할 수 있습니다. 이처럼 입력값으로 주어진 인자(argument)를 받는 변수를 매개변수(parameter) 라고 합니다. 즉, 위 예제에서 함수 내부의 name은 매개변수이고, 외부에서 함수를 부를 때 넣어준 '준이'는 그 매개변수에 들어가는 인자입니다.\n",
    "\n",
    "만약 위의 함수에 이름을 안 넣고 함수를 부르면 어떻게 될까요?"
   ]
  },
  {
   "cell_type": "code",
   "execution_count": 4,
   "metadata": {},
   "outputs": [
    {
     "ename": "TypeError",
     "evalue": "say_hi_somebody() missing 1 required positional argument: 'name'",
     "output_type": "error",
     "traceback": [
      "\u001b[0;31m---------------------------------------------------------------------------\u001b[0m",
      "\u001b[0;31mTypeError\u001b[0m                                 Traceback (most recent call last)",
      "\u001b[0;32m<ipython-input-4-72761c90f15b>\u001b[0m in \u001b[0;36m<module>\u001b[0;34m\u001b[0m\n\u001b[0;32m----> 1\u001b[0;31m \u001b[0msay_hi_somebody\u001b[0m\u001b[0;34m(\u001b[0m\u001b[0;34m)\u001b[0m\u001b[0;34m\u001b[0m\u001b[0;34m\u001b[0m\u001b[0m\n\u001b[0m",
      "\u001b[0;31mTypeError\u001b[0m: say_hi_somebody() missing 1 required positional argument: 'name'"
     ]
    }
   ],
   "source": [
    "say_hi_somebody()"
   ]
  },
  {
   "cell_type": "markdown",
   "metadata": {},
   "source": [
    "오류가 납니다. say_hi_somebody()라는 함수는 name이라는 매개변수에 들어갈 인자 없이는 살 수 없는 몸이기 때문입니다."
   ]
  },
  {
   "cell_type": "markdown",
   "metadata": {},
   "source": [
    "오류 메세지는 say_hi_somebody()라는 함수가 name이라는 매개변수에 들어갈 필수 위치기반 인자 하나를 누락했다고 말하고 있습니다. 즉, 우리가 위에서 say_hi_somebody() 함수를 정의할 때 name이라는 매개변수를 함께 정의했으니, 괄호 속에 들어갈 인자를 빼놓고 부르면 안 된다는 말입니다."
   ]
  },
  {
   "cell_type": "code",
   "execution_count": 14,
   "metadata": {},
   "outputs": [],
   "source": [
    "def say_hi_nice():\n",
    "    print('안녕!')\n",
    "    print('반가워')"
   ]
  },
  {
   "cell_type": "code",
   "execution_count": 15,
   "metadata": {},
   "outputs": [
    {
     "name": "stdout",
     "output_type": "stream",
     "text": [
      "안녕!\n",
      "반가워\n"
     ]
    }
   ],
   "source": [
    "say_hi_nice()"
   ]
  },
  {
   "cell_type": "code",
   "execution_count": 16,
   "metadata": {},
   "outputs": [
    {
     "ename": "TypeError",
     "evalue": "say_hi_nice() takes 0 positional arguments but 1 was given",
     "output_type": "error",
     "traceback": [
      "\u001b[0;31m---------------------------------------------------------------------------\u001b[0m",
      "\u001b[0;31mTypeError\u001b[0m                                 Traceback (most recent call last)",
      "\u001b[0;32m<ipython-input-16-313d1560aa0a>\u001b[0m in \u001b[0;36m<module>\u001b[0;34m\u001b[0m\n\u001b[0;32m----> 1\u001b[0;31m \u001b[0msay_hi_nice\u001b[0m\u001b[0;34m(\u001b[0m\u001b[0;34m'준이'\u001b[0m\u001b[0;34m)\u001b[0m\u001b[0;34m\u001b[0m\u001b[0;34m\u001b[0m\u001b[0m\n\u001b[0m",
      "\u001b[0;31mTypeError\u001b[0m: say_hi_nice() takes 0 positional arguments but 1 was given"
     ]
    }
   ],
   "source": [
    "say_hi_nice('준이')"
   ]
  },
  {
   "cell_type": "markdown",
   "metadata": {},
   "source": [
    "- 그럼 print() 함수처럼 입력값이 있던 없던 불평 없이 자기 할 일을 하는 함수를 정의할 수는 없을까요? "
   ]
  },
  {
   "cell_type": "code",
   "execution_count": 19,
   "metadata": {},
   "outputs": [],
   "source": [
    "def say_hi_default(name='somebody'):\n",
    "    print('안녕,'+name+'!')"
   ]
  },
  {
   "cell_type": "code",
   "execution_count": 20,
   "metadata": {},
   "outputs": [
    {
     "name": "stdout",
     "output_type": "stream",
     "text": [
      "안녕,준이!\n"
     ]
    }
   ],
   "source": [
    "say_hi_default('준이')"
   ]
  },
  {
   "cell_type": "code",
   "execution_count": 21,
   "metadata": {},
   "outputs": [
    {
     "name": "stdout",
     "output_type": "stream",
     "text": [
      "안녕,somebody!\n"
     ]
    }
   ],
   "source": [
    "say_hi_default()"
   ]
  },
  {
   "cell_type": "markdown",
   "metadata": {},
   "source": [
    "- 지금까지는 한 명에게만 인사했지만, 이제 난이도를 두 배로 높여서 두 명에게 인사해 봅시다."
   ]
  },
  {
   "cell_type": "code",
   "execution_count": 25,
   "metadata": {},
   "outputs": [],
   "source": [
    "def say_hi_couple(name1, name2):\n",
    "    print(name1 + ', ' + name2 + ', ' + '안녕!')"
   ]
  },
  {
   "cell_type": "code",
   "execution_count": 26,
   "metadata": {},
   "outputs": [
    {
     "name": "stdout",
     "output_type": "stream",
     "text": [
      "그리, 단테, 안녕!\n"
     ]
    }
   ],
   "source": [
    "say_hi_couple('그리', '단테')"
   ]
  },
  {
   "cell_type": "code",
   "execution_count": 27,
   "metadata": {},
   "outputs": [
    {
     "ename": "TypeError",
     "evalue": "say_hi_couple() missing 1 required positional argument: 'name2'",
     "output_type": "error",
     "traceback": [
      "\u001b[0;31m---------------------------------------------------------------------------\u001b[0m",
      "\u001b[0;31mTypeError\u001b[0m                                 Traceback (most recent call last)",
      "\u001b[0;32m<ipython-input-27-5e4c4cf2f095>\u001b[0m in \u001b[0;36m<module>\u001b[0;34m\u001b[0m\n\u001b[0;32m----> 1\u001b[0;31m \u001b[0msay_hi_couple\u001b[0m\u001b[0;34m(\u001b[0m\u001b[0;34m'그리'\u001b[0m\u001b[0;34m)\u001b[0m\u001b[0;34m\u001b[0m\u001b[0;34m\u001b[0m\u001b[0m\n\u001b[0m",
      "\u001b[0;31mTypeError\u001b[0m: say_hi_couple() missing 1 required positional argument: 'name2'"
     ]
    }
   ],
   "source": [
    "say_hi_couple('그리')"
   ]
  },
  {
   "cell_type": "markdown",
   "metadata": {},
   "source": [
    "- missing 1 required positional argument"
   ]
  },
  {
   "cell_type": "markdown",
   "metadata": {},
   "source": [
    "- 함수를 정의할 때 약속했던 name2를 내놓으라고 합니다."
   ]
  },
  {
   "cell_type": "markdown",
   "metadata": {},
   "source": [
    "- 참고로, 함수를 정의할 때 쓰인 인자의 이름을 알고 있다면,   \n",
    "    함수를 호출할 때 직접 붙여줄 수도 있습니다.    \n",
    "    아래의 코드는 그 의미상 say_hi_couple('그리', '단테')와 동일합니다.\n",
    "\n"
   ]
  },
  {
   "cell_type": "code",
   "execution_count": 28,
   "metadata": {},
   "outputs": [
    {
     "name": "stdout",
     "output_type": "stream",
     "text": [
      "그리, 단테, 안녕!\n"
     ]
    }
   ],
   "source": [
    "say_hi_couple(name1='그리', name2='단테')"
   ]
  },
  {
   "cell_type": "markdown",
   "metadata": {},
   "source": [
    "- 이렇게 이름으로 인자를 전달할 때는 순서가 상관없기 때문에, 거꾸로 뒤집을 수도 있습니다."
   ]
  },
  {
   "cell_type": "code",
   "execution_count": 31,
   "metadata": {},
   "outputs": [
    {
     "name": "stdout",
     "output_type": "stream",
     "text": [
      "단테, 그리, 안녕!\n"
     ]
    }
   ],
   "source": [
    "say_hi_couple(name2='그리', name1='단테')"
   ]
  },
  {
   "cell_type": "markdown",
   "metadata": {},
   "source": [
    "- 정의할 때 약속하지 않은 엉뚱한 이름을 준다면?"
   ]
  },
  {
   "cell_type": "code",
   "execution_count": 32,
   "metadata": {},
   "outputs": [
    {
     "ename": "TypeError",
     "evalue": "say_hi_couple() got an unexpected keyword argument 'name'",
     "output_type": "error",
     "traceback": [
      "\u001b[0;31m---------------------------------------------------------------------------\u001b[0m",
      "\u001b[0;31mTypeError\u001b[0m                                 Traceback (most recent call last)",
      "\u001b[0;32m<ipython-input-32-ee173f4dcb75>\u001b[0m in \u001b[0;36m<module>\u001b[0;34m\u001b[0m\n\u001b[0;32m----> 1\u001b[0;31m \u001b[0msay_hi_couple\u001b[0m\u001b[0;34m(\u001b[0m\u001b[0mname\u001b[0m\u001b[0;34m=\u001b[0m\u001b[0;34m'그리'\u001b[0m\u001b[0;34m,\u001b[0m \u001b[0mname2\u001b[0m\u001b[0;34m=\u001b[0m\u001b[0;34m'단테'\u001b[0m\u001b[0;34m)\u001b[0m\u001b[0;34m\u001b[0m\u001b[0;34m\u001b[0m\u001b[0m\n\u001b[0m",
      "\u001b[0;31mTypeError\u001b[0m: say_hi_couple() got an unexpected keyword argument 'name'"
     ]
    }
   ],
   "source": [
    "say_hi_couple(name='그리', name2='단테')"
   ]
  },
  {
   "cell_type": "markdown",
   "metadata": {},
   "source": [
    "- got an unexpected keyword argument 'name'"
   ]
  },
  {
   "cell_type": "markdown",
   "metadata": {},
   "source": [
    "- 입력값이 여러 개일 때도 각 입력값마다 기본값을 지정해줄 수 있습니다.   \n",
    " \n",
    "- 단, 이 경우 **기본값이 있는 인자들이 기본값이 없는 필수 인자들의 뒤에 와야** 합니다."
   ]
  },
  {
   "cell_type": "code",
   "execution_count": 33,
   "metadata": {},
   "outputs": [],
   "source": [
    "def say_hi_couple_default(name1, name2='nobody'):\n",
    "    print(name1 + ', ' + name2 + '안녕~')"
   ]
  },
  {
   "cell_type": "markdown",
   "metadata": {},
   "source": [
    "- 만약 이 규칙을 지키지 않으면 아래와 같이 함수를 정의할 때 오류가 납니다."
   ]
  },
  {
   "cell_type": "code",
   "execution_count": null,
   "metadata": {},
   "outputs": [],
   "source": [
    "def say_hi_couple_default_wrong(name1='nobody', name2):\n",
    "    print(name1 + ', ' + name2 + ' 안녕!')"
   ]
  },
  {
   "cell_type": "markdown",
   "metadata": {},
   "source": [
    "- 위처럼 정의해놓고 say_hi_couple_default_wrong('단테')와 같이 인자를 하나만 주고 함수를 호출하면, 과연 생략된 하나의 인자를 name1으로 봐야 할지, name2로 봐야 할지 불분명하기 때문입니다."
   ]
  },
  {
   "cell_type": "code",
   "execution_count": null,
   "metadata": {},
   "outputs": [],
   "source": []
  }
 ],
 "metadata": {
  "kernelspec": {
   "display_name": "Python 3",
   "language": "python",
   "name": "python3"
  },
  "language_info": {
   "codemirror_mode": {
    "name": "ipython",
    "version": 3
   },
   "file_extension": ".py",
   "mimetype": "text/x-python",
   "name": "python",
   "nbconvert_exporter": "python",
   "pygments_lexer": "ipython3",
   "version": "3.7.6"
  }
 },
 "nbformat": 4,
 "nbformat_minor": 4
}
