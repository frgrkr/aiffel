{
 "cells": [
  {
   "cell_type": "markdown",
   "metadata": {},
   "source": [
    "- 운영체제의 구성과 커널의 역할\n",
    "- 터미널, 터미널 에뮬레이터, 셸의 차이\n",
    "- 기본적인 리눅스 명령어"
   ]
  },
  {
   "cell_type": "markdown",
   "metadata": {},
   "source": [
    "- ctrl + alt + F3 (CUI: Character User Interface 터미널로 들어가기)\n",
    "- ctrl + alt + F1/**F2**/F7 (GUI로 돌아오기)"
   ]
  },
  {
   "cell_type": "markdown",
   "metadata": {},
   "source": [
    "## 각종 명령어"
   ]
  },
  {
   "cell_type": "markdown",
   "metadata": {},
   "source": [
    "### (1) pwd"
   ]
  },
  {
   "cell_type": "markdown",
   "metadata": {},
   "source": [
    "> - echo ~ :   \n",
    "> ~ 를 출력"
   ]
  },
  {
   "cell_type": "markdown",
   "metadata": {},
   "source": [
    "> - pwd (Presenting Working Directory):   \n",
    "> 현재 내가 위치한 디렉토리 위치 출력"
   ]
  },
  {
   "cell_type": "markdown",
   "metadata": {},
   "source": [
    "/home/사용자명과 같은 형태의 결과가 표시됩니다. home 폴더 안의 사용자명 폴더 안에 있다는 뜻인데, 윈도우즈에서는 폴더 구분에 역슬래시(\\, 또는 글꼴에 따라 원화 기호 ₩로 출력)를 쓰지만 리눅스에서는 슬래시(/)를 쓰는 것을 알 수 있습니다.\n",
    "\n",
    "이 위치를 해당 사용자의 홈 디렉토리라고 합니다. 사용자마다 하나씩 주어지며, 윈도우즈의 내 문서 폴더와 비슷하다고 생각하시면 됩니다. 홈 디렉토리를 줄여서 ~로도 표시하는데, 이는 옛날 옛적에 Home 키와 ~ 키가 같은 자판에 있던 시절로부터 전해져 내려온 유구한 전통입니다.\n",
    "\n",
    "그럼 이제 아까부터 터미널에 떠 있던 저 문구의 뜻을 조금은 알 수 있을 것 같습니다."
   ]
  },
  {
   "cell_type": "raw",
   "metadata": {},
   "source": [
    "june@juneoh-ubuntu:~$"
   ]
  },
  {
   "cell_type": "markdown",
   "metadata": {},
   "source": [
    "- @ 앞의 june은 현재 로그인한 사용자명입니다.\n",
    "- @ 뒤의 juneoh-ubuntu는 컴퓨터의 이름, 호스트명입니다.\n",
    "- : 뒤의 ~는 현재 위치입니다.\n",
    "- 마지막 $는 현재 로그인한 사용자가 일반 사용자임을 나타냅니다.   \n",
    "    나중에 배울 최고 관리자 계정(root)의 경우에는 #로 표시됩니다.   \n",
    "    \n",
    "리눅스는 UNIX라는 운영체제를 본떠 만들어졌는데, 이 UNIX의 철학 중 하나는 \"모든 것은 파일이다\"라는 점입니다. 윈도우에서는 각종 시스템 설정값이 레지스트리에 들어있지만, 리눅스에서는 설정값 또한 파일이며, 키보드 등의 하드웨어 기기들도 파일로서 접근 가능합니다. 셸 내부에서 나의 위치도 마치 하나의 파일처럼 항상 어떤 폴더 안에 있기 때문에 길을 잃을 염려는 없습니다.   \n",
    "   \n",
    "셸 뭐라구요? 우리가 지금 사용하고 있는 것과 같은 프로그램의 종류를 셸(shell) 이라고 하며, 우리는 이 껍데기를 통해 운영체제의 알맹이인 커널(kernel) 과 소통합니다. 셸이 무엇인지에 대해서는 뒤에서 자세히 알아보겠습니다.   "
   ]
  },
  {
   "cell_type": "markdown",
   "metadata": {},
   "source": [
    "---"
   ]
  },
  {
   "cell_type": "markdown",
   "metadata": {},
   "source": [
    "### (2) ls"
   ]
  },
  {
   "cell_type": "markdown",
   "metadata": {},
   "source": [
    "> ls를 입력하여 지금 있는 폴더 안에   \n",
    "> 어떤 파일/폴더가 있는지 목록을 출력한다."
   ]
  },
  {
   "cell_type": "raw",
   "metadata": {},
   "source": [
    "june@juneoh-ubuntu:~$ ls\n",
    "Desktop  Documents  Downloads  Music  Pictures  Public  Templates  Videos"
   ]
  },
  {
   "cell_type": "markdown",
   "metadata": {},
   "source": [
    "> ls --all입력시"
   ]
  },
  {
   "cell_type": "raw",
   "metadata": {},
   "source": [
    "ls --all"
   ]
  },
  {
   "cell_type": "raw",
   "metadata": {},
   "source": [
    "june@juneoh-ubuntu:~$ ls --all\n",
    ".   .bash_logout  .cache   Documents  .gnupg  Pictures  Public  Templates\n",
    "..  .bashrc       Desktop  Downloads  Music   .profile  .ssh    Videos"
   ]
  },
  {
   "cell_type": "markdown",
   "metadata": {},
   "source": [
    "> ~ 가 홈 디렉토리를 가리키듯   \n",
    "> . 은 현재 폴더를,   \n",
    "> .. 은 상위 폴더를 가리킨다."
   ]
  },
  {
   "cell_type": "markdown",
   "metadata": {},
   "source": [
    "> (참고): 리눅스에서 . 로 시작하는 이름을 가진 파일은 숨김 파일이다.   \n",
    ">> 예를 들어 .bashrc와 .profile은 셸에 로그인 시 자동으로 불러오는 설정 파일들입니다. 이런 숨김 파일들도 ls 명령어에 --all 인자를 함께 사용하면 모두 표시할 수 있다.    \n",
    "\n",
    ">>그런데 어떤 명령어가 어떤 인자를 제공하는지는 어떻게 할 수 있을까요? 대부분의 명령어들은 --help라는 인자를 기본으로 제공합니다. ls --help를 입력해 봅시다."
   ]
  },
  {
   "cell_type": "markdown",
   "metadata": {},
   "source": [
    "- 한 글자 인자를 여럿 쓸 때에는 서로 붙여 쓸 수 있습니다. 즉, ls -l -a -h는 ls -lah로 쓸 수 있습니다."
   ]
  },
  {
   "cell_type": "raw",
   "metadata": {},
   "source": [
    "-l                         use a long listing format\n",
    "-a, --all                  do not ignore entries starting with .\n",
    "-h, --human-readable       with -l and/or -s, print human readable sizes\n",
    "                               (e.g., 1K 234M 2G)"
   ]
  },
  {
   "cell_type": "raw",
   "metadata": {},
   "source": [
    "june@juneoh-ubuntu:~$ ls -lah"
   ]
  },
  {
   "cell_type": "markdown",
   "metadata": {},
   "source": [
    "- #### (Tip) ls -alrt 가 유용할 때가 많습니다.   \n",
    "   \n",
    "    또는 명령어의 설명을 위해 --help 인자 대신 man 명령어를 사용하는 방법도 있습니다.    \n",
    "    여기서 man는 성인 남성이 아니라 매뉴얼(manual)의 줄임말입니다. man ls를 입력해 봅시다."
   ]
  },
  {
   "cell_type": "raw",
   "metadata": {},
   "source": [
    "(aiffel) aiffel0042@aiffel0042-LAPTOP:~$ man ls"
   ]
  },
  {
   "cell_type": "markdown",
   "metadata": {},
   "source": [
    "- ls 뒤에 폴더명을 넣어서 해당 폴더 안을 볼 수도 있습니다.   \n",
    "    ls --all aiffel를 입력해 aiffel 폴더 안에 어떤 파일들이 있는지 살펴봅니다."
   ]
  },
  {
   "cell_type": "raw",
   "metadata": {},
   "source": [
    "june@juneoh-ubuntu:~$ ls --all aiffel"
   ]
  },
  {
   "cell_type": "markdown",
   "metadata": {},
   "source": [
    "### (3) cd"
   ]
  },
  {
   "cell_type": "raw",
   "metadata": {},
   "source": [
    "june@juneoh-ubuntu:~$ cd aiffel\n",
    "june@juneoh-ubuntu:~/aiffel$"
   ]
  },
  {
   "cell_type": "markdown",
   "metadata": {},
   "source": [
    "- Change Directory: cd"
   ]
  },
  {
   "cell_type": "markdown",
   "metadata": {},
   "source": [
    "- 셸\n",
    "- 커널"
   ]
  },
  {
   "cell_type": "markdown",
   "metadata": {},
   "source": [
    "- cd : 내가 있는 셸의 현재 위치를 이동시킴"
   ]
  },
  {
   "cell_type": "markdown",
   "metadata": {},
   "source": [
    "- 명령을 입력하는 시점에   \n",
    "    내가 현재 있는 디렉토리에 영향을 받는   \n",
    "    위치 표시 방식: 상대 경로   \n",
    "       \n",
    "       \n",
    "    ex) \n",
    "        june@juneoh-ubuntu:~/aiffel$ pwd   \n",
    "        /home/june/aiffel   \n",
    "           \n",
    "        june@juneoh-ubuntu:~/aiffel$ cd ..   \n",
    "    june@juneoh-ubuntu:~$ pwd   \n",
    "        /home/june   \n",
    "           \n",
    "            \n",
    "- 어디서 입력하든 똑같은 곳을 가리키도록   \n",
    "    위치 전체를 적어주는 방식: 절대 경로   \n",
    "       \n",
    "    ex)    \n",
    "        /home/june/aiffel"
   ]
  },
  {
   "cell_type": "raw",
   "metadata": {},
   "source": [
    "/home: 사용자별 홈 디렉토리들이 있는 곳\n",
    "/root: 최고 관리자 계정의 홈 디렉토리\n",
    "/mnt: 저장장치(HDD, SSD)가 붙는 위치\n",
    "/media: 이동식 미디어(USB 드라이브)가 붙는 위치`\n",
    "/tmp: 재부팅 시 삭제될 임시 파일들을 저장하는 폴더\n",
    "/dev: 컴퓨터에 연결된 하드웨어 및 가상 기기(device)들을 가리키는 파일들\n",
    "/proc: 현재 실행 중인 프로세스들을 가리키는 파일들\n",
    "/etc: 각종 설정 파일들\n",
    "/bin: 실행 가능한 프로그램(binary)들\n",
    "/sbin: 시스템 관리용 프로그램들\n",
    "/usr: 다중 사용자 모드에서 사용 가능한 파일 및 프로그램들 (root 계정만 있는 단일 사용자 모드에서는 사용 불가)\n",
    "/var: 캐시, 로그 등 시스템 구동 간 계속 내용이 바뀌는 파일들   \n",
    "\n",
    "한번 어디로 들어가 볼까요? 최고 관리자 계정이 탐이 납니다."
   ]
  },
  {
   "cell_type": "raw",
   "metadata": {},
   "source": [
    "$ cd root"
   ]
  },
  {
   "cell_type": "raw",
   "metadata": {},
   "source": [
    "june@juneoh-ubuntu:/$ cd root\n",
    "-bash: cd: root: Permission denied"
   ]
  },
  {
   "cell_type": "markdown",
   "metadata": {},
   "source": [
    "권한이 없어 접근이 거부되었습니다.   \n",
    "Ctrl+D를 눌러 로그아웃한 뒤, Ctrl+Alt+F2을 눌러 우리가 알던 세계로 돌아갑니다."
   ]
  },
  {
   "cell_type": "markdown",
   "metadata": {},
   "source": [
    "## 운영체제 일반 개론"
   ]
  },
  {
   "cell_type": "markdown",
   "metadata": {},
   "source": [
    "- 커널\n",
    "- 셸\n",
    "- etc."
   ]
  },
  {
   "cell_type": "markdown",
   "metadata": {},
   "source": [
    "> CLI 셸로는 윈도우 운영체제의 cmd.exe와 PowerShell이 있고, 우분투 및 맥 OS에서는 CLI 셸로서 기본으로 sh와 여기에 몇 가지 편의기능을 덧붙인 bash가 설치되어 있습니다. 이 외에도 csh, fish, zsh 등 다양한 CLI 셸을 직접 설치하여 사용할 수 있습니다. 또한 zsh처럼 테마 및 플러그인을 지원하는 셸의 경우 모양과 편의기능을 입맛에 따라 꾸밀 수 있습니다."
   ]
  },
  {
   "cell_type": "markdown",
   "metadata": {},
   "source": [
    ">  zsh와 함께 사용할 수 있는 pure 테마 (https://github.com/sindresorhus/pure)]"
   ]
  },
  {
   "cell_type": "markdown",
   "metadata": {},
   "source": [
    "프로그램은 컴퓨터가 수행할 작업을 기록해놓은 것을 뜻합니다. 프로그램이 실제로 작업으로써 수행될 때 운영체제는 이를 프로세스(process)라는 단위로 관리합니다. 즉, 운영체제는 프로세스 단위로 메모리와 CPU 연산 등 컴퓨팅 자원을 분배합니다.\n",
    "\n",
    "- 메모리 관리: 운영체제는 프로세스가 컴퓨터의 전체 메모리 어디든지 쓸 수 있도록 하는 것이 아니라 가상 메모리(virtual memory)로써 일부만 떼어서 제공해줌으로써, 다른 프로세스의 메모리 또는 운영체제 자체가 사용하고 있는 커널 메모리를 훔쳐볼 수 없도록 합니다. 이것을 운영체제의 중요한 보안 기제 중 하나인 프로세스 격리(process isolation)라고 부르며, 때문에 프로세스들이 서로 소통하기 위해서는 별도로 허용된 프로세스 간 통신 (Inter-Process Communication, IPC) 기법들을 사용해야 합니다.\n",
    "- CPU 자원 관리: 메모리는 주소로서 프로세스에게 제공되지만, CPU 연산의 경우 코어 단위로 프로세스에 제공됩니다. 프로세스는 스레드(thread)라는 단위로 코어를 하나씩 사용할 수가 있는데, 프로세스가 하나 시작되면 기본적으로 하나의 스레드를 가지고 시작하지만, 개발자는 프로그램이 더 많은 스레드를 사용하도록 설계하여 다중 CPU 코어의 이점을 극대화할 수 있습니다."
   ]
  },
  {
   "cell_type": "markdown",
   "metadata": {},
   "source": [
    "- 프로세스는 운영체제가 메모리를 할당하는 작업단위라면, 스레드는 프로세스가 할당받은 메모리를 활용하는 실행단위입니다.\n",
    "\n",
    "- 하나의 프로그램 안에서 여러개의 프로세스를 활용하는 것을 멀티프로세싱(Multiprocessing), 하나의 프로세스 안에서 여러개의 스레드를 활용하는 것을 멀티스레딩(Multithreading)이라고 합니다."
   ]
  },
  {
   "cell_type": "markdown",
   "metadata": {},
   "source": [
    "- ps: 현재 터미널과 관련된 프로세스 목록을 출력합니다.\n",
    "- ps -ef: 모든 터미널에서 현재 실행중인 프로세스 목록 및 부가정보를 출력합니다."
   ]
  },
  {
   "cell_type": "raw",
   "metadata": {},
   "source": [
    "(base) aiffel0042@aiffel0042-LAPTOP:~$ ps -e"
   ]
  },
  {
   "cell_type": "raw",
   "metadata": {},
   "source": [
    "(base) aiffel0042@aiffel0042-LAPTOP:~$ ps -ef"
   ]
  },
  {
   "cell_type": "markdown",
   "metadata": {},
   "source": [
    "- PID는 process ID 번호이고, TTY는 해당 프로세스가 붙어있는 teletype(터미널)입니다. 제 프로세스에서는 2번 터미널(tty2)에서 GUI 셸을 관리하는 프로그램인 Xorg가 돌아가고 있는 것을 확인할 수 있습니다. 또한 0번 가상 터미널(pts, pseudo teletype slave)에 우리가 방금 실행한 ps 명령어와, 해당 명령어를 실행한 셸 bash가 떠있습니다. TTY 칸에 ?가 표시된 프로세스들은 터미널에 부착되지 않은 프로세스들입니다.\n",
    "\n",
    "- 자, 이제 한번 프로세스를 하나 죽여봅시다. GUI 셸의 핵심인 Xorg가 만만해 보입니다. 조금 갑작스럽지만 컴퓨터는 원래 망가트리면서 배워야 제맛입니다. 물론 실제로 망가뜨리진 않겠지만, 열려있던 창이 모두 종료될 테니 작업 중이던 내용을 모두 저장한 다음, 위에서 확인한 /usr/bin/Xorg 프로세스의 번호를 넣어 sudo kill -s KILL [프로세스번호]를 입력합니다.    \n",
    "- [프로세스번호] 부분에 여러분의 컴퓨터에서 실제로 출력한 숫자를 집어넣으세요. 여러분의 터미널에서 나오는 프로세스 번호는 GUI가 켜질 때마다 다르게 부여될 수 있으니 아래와 같이 꼭 직접 확인하세요."
   ]
  },
  {
   "cell_type": "code",
   "execution_count": null,
   "metadata": {},
   "outputs": [],
   "source": []
  }
 ],
 "metadata": {
  "kernelspec": {
   "display_name": "Python 3",
   "language": "python",
   "name": "python3"
  },
  "language_info": {
   "codemirror_mode": {
    "name": "ipython",
    "version": 3
   },
   "file_extension": ".py",
   "mimetype": "text/x-python",
   "name": "python",
   "nbconvert_exporter": "python",
   "pygments_lexer": "ipython3",
   "version": "3.7.6"
  }
 },
 "nbformat": 4,
 "nbformat_minor": 4
}
