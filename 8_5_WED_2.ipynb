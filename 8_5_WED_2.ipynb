{
 "cells": [
  {
   "cell_type": "markdown",
   "metadata": {},
   "source": [
    "## 같은 코드 두 번 짜지 말기"
   ]
  },
  {
   "cell_type": "markdown",
   "metadata": {},
   "source": [
    "### (1) 함수 사용"
   ]
  },
  {
   "cell_type": "markdown",
   "metadata": {},
   "source": [
    "- 같은 코드인데 여러번 중복해서 입력하는 경우:   \n",
    "    1,000줄 정도 되는 코드를 짰는데 **이 코드를 다시 한 번** 더 아래에 짜야 한다면?   \n",
    "    Ctrl+c, Ctrl+v 제외 (참조: https://ko.wikipedia.org/wiki/잘라내기,_복사,_붙여넣기)   \n",
    "    \n",
    "    1,000줄 짜리 코드를 10번 복사 붙여넣기를 한다면?   \n",
    "       \n",
    "    만약 1,000줄 짜리 코드에 문제가 있는 것을 뒤늦게 발견하여 코드를 수정하려고 한다면?   \n",
    "    나머지 다른 코드들도 일일이 수정하거나   \n",
    "    10,000줄의 코드를 1,000줄씩 끊어 다시 삭제하고 붙여넣기를 반복해야 할지도 모름"
   ]
  },
  {
   "cell_type": "markdown",
   "metadata": {},
   "source": [
    "- 항이 5개 이상인 n차 방정식이 있다고 가정할 때,   \n",
    "    여러 번 같은 식을 반복해서 입력하려면 과정이 번거로울 뿐만 아니라   \n",
    "    작성해야 하는 글자 수도 많아진다.\n",
    "    > 여기에서 '함수'가 등장하게 되는데, *f(x) = '해당 식'*의 방식으로   \n",
    "    치환하여 쉽게 변환 및 사용이 가능하게 된다.\n",
    "       \n",
    "    "
   ]
  },
  {
   "cell_type": "markdown",
   "metadata": {},
   "source": [
    "마찬가지로 프로그래밍에서도 이런 역할을 하는 것이 함수(Function)이다."
   ]
  },
  {
   "cell_type": "markdown",
   "metadata": {},
   "source": [
    "- y=f(x)에는   \n",
    "    - x   \n",
    "    :입력(정의역)   \n",
    "    - f(x)   \n",
    "    : 수식   \n",
    "    - y   \n",
    "    :결과(치역)   \n",
    "    이 있다."
   ]
  },
  {
   "cell_type": "code",
   "execution_count": 3,
   "metadata": {},
   "outputs": [],
   "source": [
    "def function_f(input_x):\n",
    "\toutput_x = input_x*input_x\n",
    "\treturn output_x"
   ]
  },
  {
   "cell_type": "markdown",
   "metadata": {},
   "source": [
    "위의 몇 줄만 보면 함수가 별로 유용성이 없는 것처럼 보이지만   \n",
    "좀 긴 코드를 보여드리겠습니다.   \n",
    "아래는 최댓값을 구하는 코드로 2개의 list,   \n",
    "즉 (**list_data**, **list_data2**)에 있는 최댓값이 무엇인지를 각각 구하는 코드입니다.\n",
    "\n"
   ]
  },
  {
   "cell_type": "code",
   "execution_count": 4,
   "metadata": {},
   "outputs": [
    {
     "name": "stdout",
     "output_type": "stream",
     "text": [
      "최댓값은  40\n",
      "최댓값은  50\n"
     ]
    }
   ],
   "source": [
    "list_data = [10, 20, 30, 40]\n",
    "list_data2 = [20, 30, 40, 50]\n",
    "\n",
    "length = len(list_data)\n",
    "max_result = list_data[0]\n",
    "for i in range(length):\n",
    "    if max_result < list_data[i]:\n",
    "        max_result = list_data[i]\n",
    "        \n",
    "print(\"최댓값은 \", max_result)\n",
    "\n",
    "length = len(list_data2)\n",
    "max_result = list_data2[0]\n",
    "for i in range(length):\n",
    "    if max_result < list_data2[i]:\n",
    "        max_result = list_data2[i]\n",
    "        \n",
    "print(\"최댓값은 \", max_result)"
   ]
  },
  {
   "cell_type": "markdown",
   "metadata": {},
   "source": [
    "만약 또 추가적인 최댓값을 구하는 코드를 만들려면 어떻게 해야할까?   \n",
    "아마도 한 번 더 최댓값 구하는 코드 5줄이 추가될 것이다.   \n",
    "\n",
    "하지만 이 방법은 깔쌈하지 않으므로 우리는 함수를 이용해 다음과 같은 코드를 짜보도록 한다."
   ]
  },
  {
   "cell_type": "code",
   "execution_count": 5,
   "metadata": {},
   "outputs": [
    {
     "name": "stdout",
     "output_type": "stream",
     "text": [
      "최댓값은  40\n",
      "최댓값은  50\n"
     ]
    }
   ],
   "source": [
    "list_data = [10, 20, 30, 40]\n",
    "list_data2 = [20, 30, 40, 50]\n",
    "\n",
    "def max_function(x):\n",
    "    length = len(x)\n",
    "    max_result = x[0]\n",
    "    for i in range(length):\n",
    "        if max_result < x[i]:\n",
    "            max_result = x[i]\n",
    "    return max_result\n",
    "\n",
    "print(\"최댓값은 \", max_function(list_data))\n",
    "print(\"최댓값은 \", max_function(list_data2))"
   ]
  },
  {
   "cell_type": "markdown",
   "metadata": {},
   "source": [
    "위와 다르게 같은 코드가 두 번 이상 나오는 경우 함수로 만들면   \n",
    "5줄이 추가되는 것과 다르게 한 줄만 추가하면 된다.   \n",
    "이렇듯 함수를 잘 만들어 놓으면   \n",
    "- **코드의 효율성**을 높여주고   \n",
    "- **코드의 재사용성**을 높여줘 개발하는 시간이 적게 걸리고   \n",
    "- 내가 뭘 하고자 하는지 모두가 알기 쉬워 **코드의 가독성**도 좋아진다"
   ]
  },
  {
   "cell_type": "markdown",
   "metadata": {},
   "source": [
    "### (2) 함수 사용 팁"
   ]
  },
  {
   "cell_type": "markdown",
   "metadata": {},
   "source": [
    "- **pass**:   \n",
    "    함수를 만들기 전에 함수 이름과 입력 정도만 먼저 만들어 놓는 경우가 있습니다.   \n",
    "    \n",
    "    '이런 이런 동작을 하는 함수를 만들거지만   \n",
    "    먼저 일단 이름만 작성 해놓고   \n",
    "    함수 내부 구현은 나중에 해야겠다~'라는 것.   \n",
    "       \n",
    "       \n",
    "    이런 상황에선 어떻게 해야 할까요?   \n",
    "    파이썬은 즉각적인 코드 실행이 가능하기 때문에   \n",
    "    만약 함수 안을 비워 놓은 채 이름만 써 놓는다면 에러가 날 것입니다.   \n",
    "       \n",
    "    아래 코드를 실행해 보겠습니다!"
   ]
  },
  {
   "cell_type": "code",
   "execution_count": 6,
   "metadata": {},
   "outputs": [
    {
     "ename": "SyntaxError",
     "evalue": "unexpected EOF while parsing (<ipython-input-6-89446e6ffbda>, line 1)",
     "output_type": "error",
     "traceback": [
      "\u001b[0;36m  File \u001b[0;32m\"<ipython-input-6-89446e6ffbda>\"\u001b[0;36m, line \u001b[0;32m1\u001b[0m\n\u001b[0;31m    def empty_function():\u001b[0m\n\u001b[0m                         ^\u001b[0m\n\u001b[0;31mSyntaxError\u001b[0m\u001b[0;31m:\u001b[0m unexpected EOF while parsing\n"
     ]
    }
   ],
   "source": [
    "def empty_function():"
   ]
  },
  {
   "cell_type": "markdown",
   "metadata": {},
   "source": [
    "- unexpected EOF while parsing"
   ]
  },
  {
   "cell_type": "code",
   "execution_count": 7,
   "metadata": {},
   "outputs": [],
   "source": [
    "def empty_function():\n",
    "    pass"
   ]
  },
  {
   "cell_type": "markdown",
   "metadata": {},
   "source": [
    "- pass 문은 기타 제어 흐름 도구입니다.   \n",
    "    pass가 하는 일은.. 놀랍게도 아무것도 하지 않는 일입니다.   \n",
    "       \n",
    "    문법적으로 해당 문장이 필요하지만, 프로그램이 특별히 할 일이 없을 때   \n",
    "    사용 가능한 곳은 다양하며 대표적으로 위에서 사용한 함수 내부, if 내부, while 내부 등 다양한 곳에서 쓸 수 있습니다."
   ]
  },
  {
   "cell_type": "markdown",
   "metadata": {},
   "source": [
    "- **함수에 함수 사용하기**"
   ]
  },
  {
   "cell_type": "code",
   "execution_count": 8,
   "metadata": {},
   "outputs": [
    {
     "name": "stdout",
     "output_type": "stream",
     "text": [
      "안녕!\n",
      "안녕!\n"
     ]
    }
   ],
   "source": [
    "def say_something(txt):\n",
    "    return txt\n",
    "\n",
    "def send(function, count):\n",
    "    for i in range(count):  \n",
    "        print(function)\n",
    "    \n",
    "send(say_something(\"안녕!\"), 2)"
   ]
  },
  {
   "cell_type": "markdown",
   "metadata": {},
   "source": [
    "1. 먼저 send라는 함수가 실행됩니다.   \n",
    "send 함수는 function이라는 객체와, count라는 두 가지 객체를 입력으로 받습니다.   \n",
    "(1) say_something(\"안녕!\"),      \n",
    "(2) 2라는 숫자가 들어갑니다.   \n",
    "> def send(**function**, **count**):   \n",
    "> **function**:say_something(\"안녕!\")   \n",
    "> **count**:2   \n",
    "> send((1), (2)) ==> send(**say_something(\"안녕!\")**, **2**)\n",
    "  \n",
    "\n",
    "2. say_something(txt) 함수는 입력값을 그대로 반환하는 코드가 짜여 있습니다.  \n",
    "> def say_something(txt):   \n",
    "    **return** txt   \n",
    "    \n",
    "3. send 함수는 function을 count만큼 출력하는 함수입니다.   \n",
    "> def send(function, count):   \n",
    "        for i in range(count):   \n",
    "            print(function)\n",
    "   \n",
    "그럼 function에는 함수 say_something()이 들어갔으니 어떤 값을 출력할까요?   \n",
    "여러분들은 이미 돌려봐서 결과를 알고 계시겠지만   \n",
    "\"안녕!\"이 두 번 결과창에 나오게 될 것입니다.   \n",
    "즉, say_something(\"안녕!\")이라는 함수의 반환값인 \"안녕!\"이   \n",
    "send의 print() 안에 들어갑니다."
   ]
  },
  {
   "cell_type": "code",
   "execution_count": 9,
   "metadata": {},
   "outputs": [
    {
     "name": "stdout",
     "output_type": "stream",
     "text": [
      "이게 몬 말이야 도대체\n",
      "이게 몬 말이야 도대체\n",
      "이게 몬 말이야 도대체\n"
     ]
    }
   ],
   "source": [
    "def say_something(txt):\n",
    "    return txt\n",
    "\n",
    "def send(function, count):\n",
    "    for i in range(count):  \n",
    "        print(function)\n",
    "    \n",
    "send(say_something(\"이게 몬 말이야 도대체\"), 3)"
   ]
  },
  {
   "cell_type": "markdown",
   "metadata": {},
   "source": [
    "- for i in range의 의미를 찾아서: ()안 입력된 값의 범위 이내에서?   \n",
    "    i (임의의 변수) in range():   \n",
    "    range()의 괄호 안에 들어갈 것의 성질을 for 뒤에 있는 i가 결정한 건가?"
   ]
  },
  {
   "cell_type": "markdown",
   "metadata": {},
   "source": [
    "- **함수 안의 함수 & 두 개 이상의 return**:   \n",
    "    함수를 이용해서 return(반환값)을 여러 개 받고 싶을 때   \n",
    "    예를 들어 숫자들이 있는 list의 최댓값과 최솟값을 한꺼번에 출력하는 등   \n",
    "       \n",
    "    각각 함수로 짜기 귀찮지만 한번에 받고 싶은 어떤 것...   "
   ]
  },
  {
   "cell_type": "code",
   "execution_count": 10,
   "metadata": {},
   "outputs": [
    {
     "name": "stdout",
     "output_type": "stream",
     "text": [
      "최솟값, 최댓값은 :  [20, 40]\n",
      "최솟값은 :  20\n",
      "최댓값은 :  40\n"
     ]
    }
   ],
   "source": [
    "list_data = [30, 20, 30, 40]\n",
    "\n",
    "def minmax_function(x_list):\n",
    "        \n",
    "    def inner_min_function(x):\n",
    "        length = len(x)\n",
    "        min_result = x[0]\n",
    "        for i in range(length):\n",
    "            if min_result > x[i]:\n",
    "                min_result = x[i]\n",
    "        return min_result\n",
    "    \n",
    "    def inner_max_function(x):\n",
    "        length = len(x)\n",
    "        max_result = x[0]\n",
    "        for i in range(length):\n",
    "            if max_result < x[i]:\n",
    "                max_result = x[i]\n",
    "        return max_result\n",
    "        \n",
    "    x_min = inner_min_function(x_list)\n",
    "    x_max = inner_max_function(x_list)\n",
    "    \n",
    "    minmax_list = [x_min, x_max]\n",
    "\n",
    "    return minmax_list\n",
    "\n",
    "print(\"최솟값, 최댓값은 : \", minmax_function(list_data))\n",
    "print(\"최솟값은 : \", minmax_function(list_data)[0])\n",
    "print(\"최댓값은 : \", minmax_function(list_data)[1])"
   ]
  },
  {
   "cell_type": "markdown",
   "metadata": {},
   "source": [
    "- 함수 안에 함수가 있는데 그 함수 안의 함수가 무려 두 개라는 사실을 발견하심?"
   ]
  },
  {
   "cell_type": "raw",
   "metadata": {},
   "source": [
    "def inner_min_function(x):\n",
    "        length = len(x)\n",
    "        *** min ***_result = x[0]\n",
    "        for i in range(length):\n",
    "            if min_result > x[i]:\n",
    "                min_result = x[i]\n",
    "        return min_result"
   ]
  },
  {
   "cell_type": "raw",
   "metadata": {},
   "source": [
    "def inner_max_function(x):\n",
    "        length = len(x)\n",
    "        *** max ***_result = x[0]\n",
    "        for i in range(length):\n",
    "            if max_result < x[i]:\n",
    "                max_result = x[i]\n",
    "        return max_result"
   ]
  },
  {
   "cell_type": "markdown",
   "metadata": {},
   "source": [
    "참고로 함수 안에서 만든 함수는 해당 함수 내부에서만 사용할 수 있음."
   ]
  },
  {
   "cell_type": "markdown",
   "metadata": {},
   "source": [
    "위의 예시에서 minmax_function(list_data) 대신   \n",
    "inner_max_function(list_data)로 바꿔서 값을 출력해보겠습니다.\n",
    "\n"
   ]
  },
  {
   "cell_type": "code",
   "execution_count": 11,
   "metadata": {},
   "outputs": [
    {
     "ename": "NameError",
     "evalue": "name 'inner_min_function' is not defined",
     "output_type": "error",
     "traceback": [
      "\u001b[0;31m---------------------------------------------------------------------------\u001b[0m",
      "\u001b[0;31mNameError\u001b[0m                                 Traceback (most recent call last)",
      "\u001b[0;32m<ipython-input-11-94034c993542>\u001b[0m in \u001b[0;36m<module>\u001b[0;34m\u001b[0m\n\u001b[0;32m----> 1\u001b[0;31m \u001b[0mprint\u001b[0m\u001b[0;34m(\u001b[0m\u001b[0;34m\"최솟값, 최댓값은 : \"\u001b[0m\u001b[0;34m,\u001b[0m \u001b[0minner_min_function\u001b[0m\u001b[0;34m(\u001b[0m\u001b[0mlist_data\u001b[0m\u001b[0;34m)\u001b[0m\u001b[0;34m)\u001b[0m \u001b[0;31m# 변경\u001b[0m\u001b[0;34m\u001b[0m\u001b[0;34m\u001b[0m\u001b[0m\n\u001b[0m\u001b[1;32m      2\u001b[0m \u001b[0mprint\u001b[0m\u001b[0;34m(\u001b[0m\u001b[0;34m\"최솟값은 : \"\u001b[0m\u001b[0;34m,\u001b[0m \u001b[0mminmax_function\u001b[0m\u001b[0;34m(\u001b[0m\u001b[0mlist_data\u001b[0m\u001b[0;34m)\u001b[0m\u001b[0;34m[\u001b[0m\u001b[0;36m0\u001b[0m\u001b[0;34m]\u001b[0m\u001b[0;34m)\u001b[0m\u001b[0;34m\u001b[0m\u001b[0;34m\u001b[0m\u001b[0m\n\u001b[1;32m      3\u001b[0m \u001b[0mprint\u001b[0m\u001b[0;34m(\u001b[0m\u001b[0;34m\"최댓값은 : \"\u001b[0m\u001b[0;34m,\u001b[0m \u001b[0mminmax_function\u001b[0m\u001b[0;34m(\u001b[0m\u001b[0mlist_data\u001b[0m\u001b[0;34m)\u001b[0m\u001b[0;34m[\u001b[0m\u001b[0;36m1\u001b[0m\u001b[0;34m]\u001b[0m\u001b[0;34m)\u001b[0m\u001b[0;34m\u001b[0m\u001b[0;34m\u001b[0m\u001b[0m\n",
      "\u001b[0;31mNameError\u001b[0m: name 'inner_min_function' is not defined"
     ]
    }
   ],
   "source": [
    "print(\"최솟값, 최댓값은 : \", inner_min_function(list_data)) # 변경\n",
    "print(\"최솟값은 : \", minmax_function(list_data)[0])\n",
    "print(\"최댓값은 : \", minmax_function(list_data)[1])"
   ]
  },
  {
   "cell_type": "markdown",
   "metadata": {},
   "source": [
    "**함수 안에** 함수를 만들 수는 있지만,   \n",
    "**안에 있는** 함수는 가장 밖에 있는 **def**가 쳐놓은 울타리 안에서만 활동할 수 있거든요"
   ]
  },
  {
   "cell_type": "markdown",
   "metadata": {},
   "source": [
    "주목할 부분을 별첨함"
   ]
  },
  {
   "cell_type": "raw",
   "metadata": {},
   "source": [
    "    x_min = inner_min_function(x_list)\n",
    "    x_max = inner_max_function(x_list)\n",
    "    \n",
    "    minmax_list = [x_min, x_max]\n",
    "\n",
    "    return minmax_list"
   ]
  },
  {
   "cell_type": "markdown",
   "metadata": {},
   "source": [
    "return값은 minmax_list 하나로 지정되어 있지만   \n",
    "minmax_list 안에 두 개의 리스트 값을 넣어놨기 때무네   \n",
    "두 개 이상을 반환하는 것과 같은 효과를 보게 된다 꺄아아아아"
   ]
  },
  {
   "cell_type": "markdown",
   "metadata": {},
   "source": [
    "참고로 최솟값 최댓값을 각각 보고 싶다면   \n",
    "minmax_function(list_data)[0]처럼   \n",
    "**인덱싱**을 활용하시면 됩니다."
   ]
  },
  {
   "cell_type": "raw",
   "metadata": {},
   "source": [
    "바로 이렇게:   \n",
    "print(\"최솟값, 최댓값은 : \", minmax_function(list_data))\n",
    "print(\"최솟값은 : \", minmax_function(list_data)[0])\n",
    "print(\"최댓값은 : \", minmax_function(list_data)[1])"
   ]
  },
  {
   "cell_type": "markdown",
   "metadata": {},
   "source": [
    "- 여러 개의 값을 여러 변수로 반환하는 방법도 있다."
   ]
  },
  {
   "cell_type": "code",
   "execution_count": 13,
   "metadata": {},
   "outputs": [
    {
     "name": "stdout",
     "output_type": "stream",
     "text": [
      "최솟값은 :  20\n",
      "최댓값은 :  40\n"
     ]
    }
   ],
   "source": [
    "list_data = [30, 20, 30, 40]\n",
    "\n",
    "def minmax_function(x_list):\n",
    "        \n",
    "    def inner_min_function(x):\n",
    "        length = len(x)\n",
    "        min_result = x[0]\n",
    "        for i in range(length):\n",
    "            if min_result > x[i]:\n",
    "                min_result = x[i]\n",
    "        return min_result\n",
    "    \n",
    "    def inner_max_function(x):\n",
    "        length = len(x)\n",
    "        max_result = x[0]\n",
    "        for i in range(length):\n",
    "            if max_result < x[i]:\n",
    "                max_result = x[i]\n",
    "        return max_result\n",
    "        \n",
    "    x_min = inner_min_function(x_list)\n",
    "    x_max = inner_max_function(x_list)\n",
    "    \n",
    "    return x_min, x_max\n",
    "\n",
    "min_value, max_value = minmax_function(list_data)\n",
    "\n",
    "print(\"최솟값은 : \", min_value)\n",
    "print(\"최댓값은 : \", max_value)"
   ]
  },
  {
   "cell_type": "markdown",
   "metadata": {},
   "source": [
    "- 이처럼 ','콤마를 이용해 여러 개의 값을 반환하고,   \n",
    "    이를 받아 각각을 활용할 수도 있습니다."
   ]
  },
  {
   "cell_type": "raw",
   "metadata": {},
   "source": [
    "    return x_min, x_max\n",
    "\n",
    "min_value, max_value = minmax_function(list_data)"
   ]
  },
  {
   "cell_type": "code",
   "execution_count": null,
   "metadata": {},
   "outputs": [],
   "source": []
  }
 ],
 "metadata": {
  "kernelspec": {
   "display_name": "Python 3",
   "language": "python",
   "name": "python3"
  },
  "language_info": {
   "codemirror_mode": {
    "name": "ipython",
    "version": 3
   },
   "file_extension": ".py",
   "mimetype": "text/x-python",
   "name": "python",
   "nbconvert_exporter": "python",
   "pygments_lexer": "ipython3",
   "version": "3.7.6"
  }
 },
 "nbformat": 4,
 "nbformat_minor": 4
}
