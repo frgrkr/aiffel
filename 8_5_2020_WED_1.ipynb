{
 "cells": [
  {
   "cell_type": "markdown",
   "metadata": {},
   "source": [
    "1. 파이썬 어디까지 써 봤니?!   \n",
    "> 파이썬의 성능과 한계:   \n",
    "    - **퍼포먼스** - 코드를 짜서 실행을 시켰을 때 얼마나 빨리 **처리**가 되는가   \n",
    "    - **생산성** - 똑같은 기능을 하는 프로그램을 얼마나 빨리 **작성**할 수 있는가:   \n",
    "    빠른 시간 안에 기능을 구현해야 할 때, 높은 생산성은 큰 의미를 가진다.   \n",
    "    예를 들어, 같은 기능을 가진 프로그램이라 하더라도,   \n",
    "    파이썬은 일주일 만에 짤 수도 있지만   \n",
    "    C++로는 한 달이 걸릴 수도 있다. -> 훨씬 많은 코드를 쳐서 만들어야 함  \n",
    "   \n",
    "    생산성과 퍼포먼스가 모두 뛰어난 언어를 선택하면 좋겠지만   \n",
    "    실제로는 생산성이 좋은 언어는 퍼포먼스가 떨어지고   \n",
    "    퍼포먼스가 좋은 언어는 생산성이 떨어지는 측면이 있다.   \n",
    "    \n",
    "    \n",
    "2. 파이썬을 더 잘 사용해보자!   \n",
    "    2-1. 실행시간 측정   \n",
    "    2.2 For문 잘 써보기   \n",
    "    2.3 Try - Except   \n",
    "    2.4 Multiprocessing   \n",
    "3. 같은 코드 두 번 짜지 말자!   \n",
    "    3.1 함수(Function)   \n",
    "    3.2 람다 표현식   \n",
    "    3.3 클래스(Class), 모듈(Module), 패키지(Package)   \n",
    "4. 프로그래밍 패러다임과 함수형 프로그래밍   \n",
    "5. 파이써닉하게 코드를 짜보자!   "
   ]
  },
  {
   "cell_type": "markdown",
   "metadata": {},
   "source": [
    "코드 비교"
   ]
  },
  {
   "cell_type": "markdown",
   "metadata": {},
   "source": [
    "*java*"
   ]
  },
  {
   "cell_type": "raw",
   "metadata": {},
   "source": [
    "if(true) {\n",
    "    System.out.println(\"첫 번째\");\n",
    "    if(true) {\n",
    "        System.out.println(\"두 번째\");\n",
    "    }\n",
    "}"
   ]
  },
  {
   "cell_type": "markdown",
   "metadata": {},
   "source": [
    "*python*"
   ]
  },
  {
   "cell_type": "raw",
   "metadata": {},
   "source": [
    "if True :\n",
    "    print(\"첫 번쨰\");\n",
    "    if True :\n",
    "        print(\"두 번째\");"
   ]
  },
  {
   "cell_type": "markdown",
   "metadata": {},
   "source": [
    "**스크립트 언어**   \n",
    "- 프로그래밍 언어의 한 종류로,   \n",
    "    이미 존재하는 소프트웨어(어플리케이션)를 제어하기 위한 용도로 씀"
   ]
  },
  {
   "cell_type": "markdown",
   "metadata": {},
   "source": [
    "- 일반적 응용 어플리케이션(소프트웨어)는 *컴파일러*를 사용하는 언어에 의해   \n",
    "    기계어로 번역된 채로 실행되기 때문에,   \n",
    "    수정이 자주 발생하면 수정 후 일일이 컴파일을 다시 해야 한다.   \n",
    "    덩치가 큰 프로그램은 컴파일 시간도 길고,   \n",
    "    일일이 다시 컴파일을 하는 것도 상당히 귀찮은 작업이다.   \n",
    "       \n",
    "    이때문에 수정이 빈번하게 발생하는 부분은 소스코드를 한 줄 한 줄 읽어   \n",
    "    바로바로 실행하는 인터프리터 방식이 상당히 유리하다.   \n",
    "    **스크립트 언어**는 이러한 부분에 사용하기 위해 나온 것으로,   \n",
    "    응용 소프트웨어에서 스크립트 언어에 맞는 API를 제공하고   \n",
    "    응용 소프트웨어와 상호작용하면서 돌아가게 된다."
   ]
  },
  {
   "cell_type": "markdown",
   "metadata": {},
   "source": [
    "- 같은 문제를 C++로 짜게 되면 평균 11시간 정도의 시간이 걸리고 파이썬으로 짜게 되면 약 3시간의 시간이 걸리는 걸 확인할 수 있다. 따라서 성능과 상관없이 개발이 빨리 돼야 하는 프로젝트를 하게 된다면 파이썬을 사용하면 좋다."
   ]
  },
  {
   "cell_type": "markdown",
   "metadata": {},
   "source": [
    "## 8-3. 파이썬을 더 잘 사용해보자!   \n",
    "### (1) for문 잘 사용하기"
   ]
  },
  {
   "cell_type": "markdown",
   "metadata": {},
   "source": [
    "- 내가 짠 코드의 성능을 측정하고 싶을 때   \n",
    "- 내가 짠 코드를 실행 시킬 때 얼마나 시간이 소요 되는지"
   ]
  },
  {
   "cell_type": "code",
   "execution_count": 3,
   "metadata": {},
   "outputs": [
    {
     "name": "stdout",
     "output_type": "stream",
     "text": [
      "time : 0.00010085105895996094\n"
     ]
    }
   ],
   "source": [
    "import time\n",
    "start = time.time()  # 시작 시간 저장\n",
    "\n",
    "a = 1\n",
    "for i in range(100):\n",
    "\ta += 1\n",
    " \n",
    "# 작업 코드\n",
    "print(\"time :\", time.time() - start) # 결과는 '초' 단위 입니다."
   ]
  },
  {
   "cell_type": "markdown",
   "metadata": {},
   "source": [
    "- for문 잘 써보기 : enumerate()와 이중 for문"
   ]
  },
  {
   "cell_type": "markdown",
   "metadata": {},
   "source": [
    "for문을 잘 쓰면 **반복적으로** 코드를 쓰지 않아도 돼 간결한 코드를 만드는 데 큰 도움이 됩니다.\n",
    "\n",
    "아래와 같이 my_list에 있는 값들을 하나씩 출력하는 코드를 보겠습니다. 일단 먼저 돌려보시죠!"
   ]
  },
  {
   "cell_type": "code",
   "execution_count": 4,
   "metadata": {},
   "outputs": [
    {
     "name": "stdout",
     "output_type": "stream",
     "text": [
      "값 :  a\n",
      "값 :  b\n",
      "값 :  c\n",
      "값 :  d\n"
     ]
    }
   ],
   "source": [
    "my_list = ['a','b','c','d']\n",
    "\n",
    "for i in my_list:\n",
    "    print(\"값 : \", i)"
   ]
  },
  {
   "cell_type": "code",
   "execution_count": 5,
   "metadata": {},
   "outputs": [
    {
     "name": "stdout",
     "output_type": "stream",
     "text": [
      "값 :  가\n",
      "값 :  나\n",
      "값 :  다\n",
      "값 :  졸려\n",
      "값 :  배불러\n",
      "값 :  으어어어어어\n"
     ]
    }
   ],
   "source": [
    "a_list = ['가', '나', '다', '졸려', '배불러', '으어어어어어']\n",
    "\n",
    "for i in a_list:\n",
    "    print(\"값 : \", i)"
   ]
  },
  {
   "cell_type": "code",
   "execution_count": 6,
   "metadata": {},
   "outputs": [
    {
     "name": "stdout",
     "output_type": "stream",
     "text": [
      "값 :  1\n",
      "값 :  2\n",
      "값 :  5\n",
      "값 :  8\n",
      "값 :  11111111111111111111\n"
     ]
    }
   ],
   "source": [
    "b_list = ['1', '2', '5', '8', '11111111111111111111']\n",
    "\n",
    "for i in b_list:\n",
    "    print(\"값 : \", i)"
   ]
  },
  {
   "cell_type": "code",
   "execution_count": 7,
   "metadata": {},
   "outputs": [
    {
     "name": "stdout",
     "output_type": "stream",
     "text": [
      "순번 :  0  , 값 :  a\n",
      "순번 :  1  , 값 :  b\n",
      "순번 :  2  , 값 :  c\n",
      "순번 :  3  , 값 :  d\n"
     ]
    }
   ],
   "source": [
    "my_list = ['a','b','c','d']\n",
    "\n",
    "for i, value in enumerate(my_list):\n",
    "    print(\"순번 : \", i, \" , 값 : \", value)"
   ]
  },
  {
   "cell_type": "markdown",
   "metadata": {},
   "source": [
    "for i, value in enumerate(my_list)를 이용하면 i에 순번이, value에 해당 순번의 데이터 값이 나오게 됩니다. 즉, enumerate()를 통해 단순 for문이 아니라 순서에 대한 결과 값도 함께 추가되었다고 생각하시면 됩니다.\n",
    "\n",
    "자 이번엔 이중 for문에 대해서 알아보겠습니다. for 안에 또 for를 쓴 것을 이중 for문 이라고 합니다.\n",
    "\n",
    "눈치 빠르신 분들은 삼중 사중 for문도 있지 않을까 하실텐데 맞습니다! for문의 갯수에 따라서 몇중의 for문이고 생성할 수 있습니다. 사실은 삼중 for문 이상이고 데이터가 많아지면 매우 느리게 동작하기 때문에 이중 for문까지만 쓰는 경우가 많습니다. 물론 필요한 경우는 그 이상도 사용할 수는 있습니다만 효율적인 코드는 아닐 수 있습니다.\n",
    "\n",
    "설명이 길어졌는데 바로 이중 for문을 돌려보겠습니다."
   ]
  },
  {
   "cell_type": "code",
   "execution_count": 8,
   "metadata": {},
   "outputs": [
    {
     "name": "stdout",
     "output_type": "stream",
     "text": [
      "[(0, 'a'), (0, 'b'), (0, 'c'), (0, 'd'), (1, 'a'), (1, 'b'), (1, 'c'), (1, 'd')]\n"
     ]
    }
   ],
   "source": [
    "my_list = ['a','b','c','d']\n",
    "result_list = []\n",
    "\n",
    "for i in range(2):\n",
    "    for j in my_list:\n",
    "        result_list.append((i, j))\n",
    "        \n",
    "print(result_list)"
   ]
  },
  {
   "cell_type": "markdown",
   "metadata": {},
   "source": [
    "결과를 보시면 i에 대한 값은 0,0,0,0,1,1,1,1 이런 순서로 나오고 j에 대한 값은 a,b,c,d,a,b,c,d 순으로 나오는 것을 확인 할 수 있을 것입니다. 즉, i안에 j가 있기 때문에 j가 다 돌때까지 i는 0에서 고정되고 j가 순서대로 a,b,c,d로 나오게 됩니다. j가 전체 다 돌면 i는 다음으로 넘어갑니다. 이런 방식으로 [0, 1]과 ['a','b','c','d'] 두 리스트를 조합해서 만든 새로운 리스트를 얻게 됩니다."
   ]
  },
  {
   "cell_type": "markdown",
   "metadata": {},
   "source": [
    "참고 - range()\n",
    "\n",
    "- range([start,] stop [,step]) : range(2)와 같이 정수가 들어가야 하며 2이면 0부터 시작해서 2개인 list를 만듭니다. range(1, 10, 2) 이라면 1부터 10까지 2씩 증가하는 리스트를 만듭니다."
   ]
  },
  {
   "cell_type": "markdown",
   "metadata": {},
   "source": [
    "- **리스트 컴프리헨션**(list Comprehension)   \n",
    "    리스트 등 순회형 컨테이너 객체로부터 이를 가공한 새로운 리스트를 생성하는 방법   \n",
    "    컴프리헨션 기능은 비단 리스트 뿐 아니라   \n",
    "    **셋(Set)**, **딕셔너리(Dict)**에 대해서도 적용 가능합니다.   \n",
    "    아래 코드를 살펴보도록 하자."
   ]
  },
  {
   "cell_type": "code",
   "execution_count": 11,
   "metadata": {},
   "outputs": [
    {
     "name": "stdout",
     "output_type": "stream",
     "text": [
      "[(0, 'a'), (0, 'b'), (0, 'c'), (0, 'd'), (1, 'a'), (1, 'b'), (1, 'c'), (1, 'd')]\n"
     ]
    }
   ],
   "source": [
    "my_list = ['a','b','c','d']\n",
    "\n",
    "result_list = [(i, j) for i in range(2) for j in my_list]\n",
    "\n",
    "print(result_list)"
   ]
  },
  {
   "cell_type": "markdown",
   "metadata": {},
   "source": [
    "위에서 이중 for문으로 구현했던 내용과 완전히 동일한 기능을 리스트 컴프리헨션을 이용하여 1줄로 구현해 보았습니다. 앞으로도 컴프리헨션을 적용한 코드 사례를 자주 접하게 될 것입니다.\n",
    "\n"
   ]
  },
  {
   "cell_type": "markdown",
   "metadata": {},
   "source": [
    "- 제너레이터(Generator):   \n",
    "    머신러닝을 하면 매우 많은 데이터를 다루게 된다.   \n",
    "    데이터가 1건만 존재하란 법은 없기 때문에   \n",
    "    우리는 데이터를 처리하는 반복구조를 위해 for문을 떠올리게 될 것이다.   \n",
    "    위에서 살펴본 코드를 다시한번 가져와 보도록 하자."
   ]
  },
  {
   "cell_type": "code",
   "execution_count": 12,
   "metadata": {},
   "outputs": [
    {
     "name": "stdout",
     "output_type": "stream",
     "text": [
      ">>  8 data loaded..\n",
      "0 a\n",
      "0 b\n",
      "0 c\n",
      "0 d\n",
      "1 a\n",
      "1 b\n",
      "1 c\n",
      "1 d\n"
     ]
    }
   ],
   "source": [
    "my_list = ['a','b','c','d']\n",
    "\n",
    "# 인자로 받은 리스트를 가공해서 만든 데이터셋 리스트를 리턴하는 함수\n",
    "def get_dataset_list(my_list):\n",
    "    result_list = []\n",
    "    for i in range(2):\n",
    "        for j in my_list:\n",
    "            result_list.append((i, j))\n",
    "    print('>>  {} data loaded..'.format(len(result_list)))\n",
    "    return result_list\n",
    "\n",
    "for X, y in get_dataset_list(my_list):\n",
    "    print(X, y)"
   ]
  },
  {
   "cell_type": "code",
   "execution_count": 13,
   "metadata": {},
   "outputs": [
    {
     "name": "stdout",
     "output_type": "stream",
     "text": [
      "0 a\n",
      ">>  1 data loaded..\n",
      "0 b\n",
      ">>  1 data loaded..\n",
      "0 c\n",
      ">>  1 data loaded..\n",
      "0 d\n",
      ">>  1 data loaded..\n",
      "1 a\n",
      ">>  1 data loaded..\n",
      "1 b\n",
      ">>  1 data loaded..\n",
      "1 c\n",
      ">>  1 data loaded..\n",
      "1 d\n",
      ">>  1 data loaded..\n"
     ]
    }
   ],
   "source": [
    "my_list = ['a','b','c','d']\n",
    "\n",
    "# 인자로 받은 리스트로부터 데이터를 하나씩 가져오는 제너레이터를 리턴하는 함수\n",
    "def get_dataset_generator(my_list):\n",
    "    result_list = []\n",
    "    for i in range(2):\n",
    "        for j in my_list:\n",
    "            yield (i, j)\n",
    "            print('>>  1 data loaded..')\n",
    "\n",
    "dataset_generator = get_dataset_generator(my_list)\n",
    "for X, y in dataset_generator:\n",
    "    print(X, y)"
   ]
  },
  {
   "cell_type": "markdown",
   "metadata": {},
   "source": [
    "- 위 두 코드는 동일한 (X, y)를 출력하지만 데이터가 로드되는 시점에 차이가 있음을 보여준다. 위 코드만 봐서는 굳이 제너레이터가 왜 필요한지 이해할 수 없을지도 모른다. 하지만 만약 우리가 처리해야 할 데이터가 길이 4짜리 my_list가 아니라 **1억개의 레코드가 담겨 있는 빅데이터 파일이라면**?"
   ]
  },
  {
   "cell_type": "markdown",
   "metadata": {},
   "source": [
    "- 제너레이터가 없다면 우리는 길이 1억짜리 리스트를 리턴받아 메모리에 전부 올려놓고 처리를 시작해야 합니다."
   ]
  },
  {
   "cell_type": "markdown",
   "metadata": {},
   "source": [
    "- 그러나 제너레이터를 활용할 때는 1억개의 데이터를 전부 메모리에 올려놓을 필요가 없이 현재 처리해야 할 데이터를 1개씩 로드해서 사용할 수 있게 됩니다."
   ]
  },
  {
   "cell_type": "markdown",
   "metadata": {},
   "source": [
    "### (2) Try -  Except: 예외 처리 하기"
   ]
  },
  {
   "cell_type": "markdown",
   "metadata": {},
   "source": [
    "- 에러를 잡기 위한 수많은 노력들 중 하나가 Try-Except:   \n",
    "    예외 처리를 위한 방법"
   ]
  },
  {
   "cell_type": "markdown",
   "metadata": {},
   "source": [
    "- **예외(exception)**란, **코드를 실행하는 중에 발생한 에러**라는 뜻이다.   \n",
    "    즉, 예외 처리는 코드를 수행하다가 예외가 발생했을 때,   \n",
    "    그 예외를 무시하게 하거나   \n",
    "    예외 대신 적절한 처리를 하게 하는 등의 작업을 의미한다."
   ]
  },
  {
   "cell_type": "markdown",
   "metadata": {},
   "source": [
    "- **Try - Statement - (Except) - End**   \n",
    "    Try 이하의 코드가 먼저 실행됩니다.   \n",
    "    Try 안에 있는 Statements(코드)를 수행하게 되고   \n",
    "    만약 이 코드 상에서 어떠한 이유로 인해 에러가 발생하면   \n",
    "    Except 안에 있는 코드가 바로 실행되게 됩니다."
   ]
  },
  {
   "cell_type": "code",
   "execution_count": 14,
   "metadata": {},
   "outputs": [
    {
     "ename": "ZeroDivisionError",
     "evalue": "division by zero",
     "output_type": "error",
     "traceback": [
      "\u001b[0;31m---------------------------------------------------------------------------\u001b[0m",
      "\u001b[0;31mZeroDivisionError\u001b[0m                         Traceback (most recent call last)",
      "\u001b[0;32m<ipython-input-14-fe01563e1bc6>\u001b[0m in \u001b[0;36m<module>\u001b[0;34m\u001b[0m\n\u001b[0;32m----> 1\u001b[0;31m \u001b[0mprint\u001b[0m\u001b[0;34m(\u001b[0m\u001b[0;36m10\u001b[0m\u001b[0;34m/\u001b[0m\u001b[0;36m0\u001b[0m\u001b[0;34m)\u001b[0m\u001b[0;34m\u001b[0m\u001b[0;34m\u001b[0m\u001b[0m\n\u001b[0m",
      "\u001b[0;31mZeroDivisionError\u001b[0m: division by zero"
     ]
    }
   ],
   "source": [
    "print(10/0)"
   ]
  },
  {
   "cell_type": "markdown",
   "metadata": {},
   "source": [
    "- 파이썬 언어 내에서도 **0으로 나누면 안 된다**는 것이 자명하므로 해당 에러문으로 출력"
   ]
  },
  {
   "cell_type": "markdown",
   "metadata": {},
   "source": [
    "- 그럼 이 에러를 회피하고 싶다면 어떻게 해야 할까요? 물론 아예 처음부터 저렇게 0으로 나누는 경우를 만들지 않으면 됩니다. 😀   \n",
    "   \n",
    "   \n",
    "- 하지만 실제 데이터 분석이나 프로그래밍을 하다보면 자주 저런 경우가 발생합니다. 우리가 **모든 데이터 목록이 어떻게 생겼는지 미처 확인을 못 했을 수도 있고**, 또 데이터를 내 입맛에 맞게 처리를 하다보면 **예상치 못하게 0이 생성될 수도** 있습니다. 데이터 자체를 하나하나 확인하고 코드를 실행하기 어려울 수 있으니 **예외 처리 구문**을 통해 이 문제를 해결해야 합니다.   \n",
    "   \n",
    "   \n",
    "- 에러가 발생했을 때 위의 **에러 메시지를 출력하는 대신 에러가 발생했다는 문구가 출력되도록** 해보겠습니다. 즉, '에러가 발생했습니다.' 라고 뜨게 해보겠습니다."
   ]
  },
  {
   "cell_type": "code",
   "execution_count": 15,
   "metadata": {},
   "outputs": [
    {
     "name": "stdout",
     "output_type": "stream",
     "text": [
      "에러가 발생했습니다.\n"
     ]
    }
   ],
   "source": [
    "a = 10\n",
    "b = 0\n",
    "try:\n",
    "    #실행 코드\n",
    "    print(a/b)\n",
    "\t\t\n",
    "except:\n",
    "    #에러가 발생했을 때 처리하는 코드\n",
    "    print('에러가 발생했습니다.')"
   ]
  },
  {
   "cell_type": "code",
   "execution_count": 16,
   "metadata": {},
   "outputs": [
    {
     "name": "stdout",
     "output_type": "stream",
     "text": [
      "10.0\n"
     ]
    }
   ],
   "source": [
    "a = 10\n",
    "b = 1\n",
    "\n",
    "try:\n",
    "    #실행 코드\n",
    "    print(a/b)\n",
    "\t\t\n",
    "except:\n",
    "    #에러가 발생했을 때 처리하는 코드\n",
    "    print('에러가 발생했습니다.')"
   ]
  },
  {
   "cell_type": "markdown",
   "metadata": {},
   "source": [
    "- except에서 에러가 발생했다는 것만 단순히 알려주고 끝내는 것이 아니라,   \n",
    "    에러가 발생했을 경우   \n",
    "    알아서 **'에러가 발생하지 않을 값'**으로 바꿔서 결과를 출력하고 싶다면"
   ]
  },
  {
   "cell_type": "code",
   "execution_count": 17,
   "metadata": {},
   "outputs": [
    {
     "name": "stdout",
     "output_type": "stream",
     "text": [
      "에러가 발생했습니다.\n",
      "값 수정 :  10.0\n"
     ]
    }
   ],
   "source": [
    "a = 10\n",
    "b = 0 \n",
    "\n",
    "try:\n",
    "    #실행 코드\n",
    "    print(a/b)\n",
    "\t\t\n",
    "except:\n",
    "    print('에러가 발생했습니다.')\n",
    "    #에러가 발생했을 때 처리하는 코드\n",
    "    b = b+1\n",
    "    print(\"값 수정 : \", a/b)"
   ]
  },
  {
   "cell_type": "markdown",
   "metadata": {},
   "source": [
    "- 위에서는 '에러가 발생하지 않을 값'으로 b = b+1 을 사용하였다.   \n",
    "    > except 내부에서 b의 값을 수정하도록 코드를 추가하였고   \n",
    "    수정된 값이 정상적으로 출력"
   ]
  },
  {
   "cell_type": "markdown",
   "metadata": {},
   "source": [
    "### (3) Multiprocessing "
   ]
  },
  {
   "cell_type": "markdown",
   "metadata": {},
   "source": [
    "- 컴퓨터가 작업을 처리하는 속도를 높여주는 방법 중 하나:   \n",
    "    하나의 자전거를 이용해 여러 명이 교대로 목적지까지 가던 방식을   \n",
    "    여러 대의 자전거로 여러 명이 동시에 목적지까지 가게 되는 것(?)   \n",
    "    *'목적지의 단축'이 목표가 아니라 뭔가 더 '많은' '처리'가 목표인 듯*   \n",
    "    -> '목적지의 단축'과 '목적지를 단축시키는 것' 언어적 차이\n",
    "   \n",
    "    김경일 교수의 강연에 나온 한 학자의 설문 실험처럼,   \n",
    "       \n",
    "    (1)위에 종양이 있는 환자가 있다   \n",
    "    (2)이 환자는 수술을 할 수 없는 상태이다   \n",
    "    (3)이 환자의 종양을 제거할 수 있는 레이저가 있다   \n",
    "    (4)종양 이외 다른 부위에 레이저를 쏘게 되면 치명적 손상을 입는다   \n",
    "    (5)적절한 강도의 레이저로는 치료가 되지만 너무 높은 강도의 레이저는   \n",
    "    마찬가지로 환자에게 치명적이다   \n",
    "    (6)레이저는 한 번에 목표하는 지점으로 바로 쏘아져야 한다   \n",
    "       \n",
    "    (성격이 조금 다름)"
   ]
  },
  {
   "cell_type": "markdown",
   "metadata": {},
   "source": [
    "- **Parallel Processing**   \n",
    "    병렬 처리"
   ]
  },
  {
   "cell_type": "markdown",
   "metadata": {},
   "source": [
    "- **Serial Processing**   \n",
    "    순차 처리"
   ]
  },
  {
   "cell_type": "markdown",
   "metadata": {},
   "source": [
    "- 지금까지 짠 코드는 순차 처리의 방식   \n",
    "    즉, 4개의 자전거을 가용할 수 있으나 그 중 1개의 자전거만 사용하고 있는 것과 같다"
   ]
  },
  {
   "cell_type": "markdown",
   "metadata": {},
   "source": [
    "- 놀고 있는 나머지 3개 자전거에 대해 이야기해보자"
   ]
  },
  {
   "cell_type": "markdown",
   "metadata": {},
   "source": [
    "- https://sebastianraschka.com/Articles/2014_multiprocessing.html"
   ]
  },
  {
   "cell_type": "markdown",
   "metadata": {},
   "source": [
    "- 순차처리의 예:"
   ]
  },
  {
   "cell_type": "code",
   "execution_count": 18,
   "metadata": {},
   "outputs": [
    {
     "name": "stdout",
     "output_type": "stream",
     "text": [
      "finish :  p1\n",
      "finish :  p2\n",
      "finish :  p3\n",
      "finish :  p4\n",
      "time : 5.481890678405762\n"
     ]
    }
   ],
   "source": [
    "import time\n",
    "\n",
    "num_list = ['p1','p2', 'p3', 'p4']\n",
    "start = time.time()\n",
    "\n",
    "def count(name):\n",
    "    for i in range(0, 100000000):\n",
    "        a=1+2\n",
    "        \n",
    "    print(\"finish : \",name)\n",
    "\n",
    "for num in num_list:\n",
    "    count(num)\n",
    "\n",
    "print(\"time :\", time.time() - start)"
   ]
  },
  {
   "cell_type": "markdown",
   "metadata": {},
   "source": [
    "- 병렬 처리의 예"
   ]
  },
  {
   "cell_type": "code",
   "execution_count": 19,
   "metadata": {},
   "outputs": [
    {
     "name": "stdout",
     "output_type": "stream",
     "text": [
      "finish :  p2\n",
      "finish :  p3\n",
      "finish :  p1\n",
      "finish :  p4\n",
      "time : 1.6124894618988037\n"
     ]
    }
   ],
   "source": [
    "import multiprocessing\n",
    "import time\n",
    "\n",
    "num_list = ['p1','p2', 'p3', 'p4']\n",
    "start = time.time()\n",
    "\n",
    "def count(name):\n",
    "    for i in range(0, 100000000):\n",
    "            a=1+2\n",
    "    print(\"finish : \",name)\n",
    "    \n",
    "\n",
    "if __name__ == '__main__':\n",
    "    pool = multiprocessing.Pool(processes = 4)\n",
    "    pool.map(count, num_list)\n",
    "    pool.close()\n",
    "    pool.join()\n",
    "\n",
    "print(\"time :\", time.time() - start)"
   ]
  },
  {
   "cell_type": "markdown",
   "metadata": {},
   "source": [
    "- time이 순차 처리 보다 **병렬 처리**를 시행했을 때 2배 이상 빨라짐   \n",
    "    그런데 병렬 처리의 경우, finish의 **순서가 순차 처리의 코드와 다를 것**   \n",
    "    이유는 각 프로세스에 작업 코드가 거의 동시에 들어가기 때문에   \n",
    "    처리되어 나오는 결과는 **각 코어의 점유 상황이나 여러 이유로 인해**   \n",
    "    시간차가 생길 수 있기 때문"
   ]
  },
  {
   "cell_type": "markdown",
   "metadata": {},
   "source": [
    "그럼 병렬 처리를 사용하는 방법에 대해 좀 더 자세히 알아보겠습니다. 일단, multiprocessing모듈을 import합니다. 그리고 병렬 처리를 하고 싶은 함수를 작성합니다. 그 아래에 count(name) 함수를 만들어보겠습니다."
   ]
  },
  {
   "cell_type": "code",
   "execution_count": 20,
   "metadata": {},
   "outputs": [],
   "source": [
    "import multiprocessing\n",
    "\n",
    "def count(name):\n",
    "    for i in range(0, 100000000):\n",
    "            a=1+2\n",
    "    print(\"finish : \",name)"
   ]
  },
  {
   "cell_type": "markdown",
   "metadata": {},
   "source": [
    "- 아래에 이어서 if __name__ == '__main__': 이 나옵니다.   \n",
    "    이것은 **코드 시작점**을 여기로 하라는 명령어."
   ]
  },
  {
   "cell_type": "code",
   "execution_count": 21,
   "metadata": {},
   "outputs": [
    {
     "name": "stdout",
     "output_type": "stream",
     "text": [
      "finish :  p2\n",
      "finish :  p3\n",
      "finish :  p4\n",
      "finish :  p1\n"
     ]
    }
   ],
   "source": [
    "num_list = ['p1','p2', 'p3', 'p4']\n",
    "\n",
    "if __name__ == '__main__':\n",
    "    pool = multiprocessing.Pool(processes = 4)\n",
    "    pool.map(count, num_list)\n",
    "    pool.close()\n",
    "    pool.join()"
   ]
  },
  {
   "cell_type": "markdown",
   "metadata": {},
   "source": [
    "- pool = multiprocessing.Pool(processes = 4) : 병렬 처리 시, 4개의 프로세스를 사용하도록 합니다.   \n",
    "- pool.map(count, num_list) : 병렬화를 시키는 함수로서 count 함수에 num_list의 원소들을 하나씩 넣어 놓습니다. 여기서 num_list의 원소는 4개이므로 4개의 count 함수에 각각 하나씩 원소가 들어가게 됩니다. 즉, count('p1'), count('p2'), count('p3'), count('p4')가 만들어 집니다.   \n",
    "- pool.close() : 일반적으로 병렬화 부분이 끝나면 나옵니다. 더이상 pool을 통해서 새로운 작업을 추가하지 않을 때 사용합니다.   \n",
    "- pool.join() : 프로세스가 종료될 때까지 대기하도록 지시하는 구문으로써 병렬처리 작업이 끝날때까지 기다리도록 합니다."
   ]
  },
  {
   "cell_type": "code",
   "execution_count": null,
   "metadata": {},
   "outputs": [],
   "source": []
  }
 ],
 "metadata": {
  "kernelspec": {
   "display_name": "Python 3",
   "language": "python",
   "name": "python3"
  },
  "language_info": {
   "codemirror_mode": {
    "name": "ipython",
    "version": 3
   },
   "file_extension": ".py",
   "mimetype": "text/x-python",
   "name": "python",
   "nbconvert_exporter": "python",
   "pygments_lexer": "ipython3",
   "version": "3.7.6"
  }
 },
 "nbformat": 4,
 "nbformat_minor": 4
}
